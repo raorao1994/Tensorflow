{
 "cells": [
  {
   "cell_type": "code",
   "execution_count": null,
   "metadata": {
    "collapsed": true
   },
   "outputs": [],
   "source": [
    "import os.path;\n",
    "import glob;\n",
    "import random;\n",
    "import numpy as np;\n",
    "import tensorflow as tf;\n",
    "from tensorflow.python.platform import gfile;"
   ]
  },
  {
   "cell_type": "code",
   "execution_count": null,
   "metadata": {
    "collapsed": true
   },
   "outputs": [],
   "source": [
    "#读取图片文件\n",
    "def get_files(path):\n",
    "    class_train=[];\n",
    "    lable_train=[];\n",
    "    #遍历路径下的目录下子目录\n",
    "    for imgpath in os.listdir(path):\n",
    "        #遍历子目录下的文件\n",
    "        for pic in os.listdir(imgpath):\n",
    "            class_train.append(path+imgpath+'/'+pic);\n",
    "            lable_train.append(imgpath);\n",
    "    #创建临时数据数组\n",
    "    temp=np.array([class_train,lable_train]);\n",
    "    temp=temp.tramspose();"
   ]
  }
 ],
 "metadata": {
  "anaconda-cloud": {},
  "kernelspec": {
   "display_name": "Python [default]",
   "language": "python",
   "name": "python3"
  },
  "language_info": {
   "codemirror_mode": {
    "name": "ipython",
    "version": 3
   },
   "file_extension": ".py",
   "mimetype": "text/x-python",
   "name": "python",
   "nbconvert_exporter": "python",
   "pygments_lexer": "ipython3",
   "version": "3.5.2"
  }
 },
 "nbformat": 4,
 "nbformat_minor": 1
}
