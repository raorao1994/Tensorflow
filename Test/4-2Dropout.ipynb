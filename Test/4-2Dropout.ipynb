{
 "cells": [
  {
   "cell_type": "code",
   "execution_count": 1,
   "metadata": {
    "collapsed": true
   },
   "outputs": [],
   "source": [
    "import tensorflow as tf;\n",
    "from tensorflow.examples.tutorials.mnist import input_data;"
   ]
  },
  {
   "cell_type": "code",
   "execution_count": null,
   "metadata": {
    "collapsed": false,
    "scrolled": false
   },
   "outputs": [
    {
     "name": "stdout",
     "output_type": "stream",
     "text": [
      "Extracting MNIST_data\\train-images-idx3-ubyte.gz\n",
      "Extracting MNIST_data\\train-labels-idx1-ubyte.gz\n",
      "Extracting MNIST_data\\t10k-images-idx3-ubyte.gz\n",
      "Extracting MNIST_data\\t10k-labels-idx1-ubyte.gz\n"
     ]
    }
   ],
   "source": [
    "#载入数据集\n",
    "#会自动下载数据集\n",
    "mnist=input_data.read_data_sets(\"MNIST_data\",one_hot=True);\n",
    "#每次批次的大小,一次性放100张图片进行训练\n",
    "batch_size=100;\n",
    "#计算一共有多少个批次\n",
    "n_batch=mnist.train.num_examples;\n",
    "\n",
    "#定义两个placehold\n",
    "#图片是28*28=784\n",
    "x=tf.placeholder(tf.float32,[None,784]);\n",
    "#0-9,总共10个数字\n",
    "y=tf.placeholder(tf.float32,[None,10]);\n",
    "keep_prob=tf.placeholder(tf.float32);\n",
    "#创建一个简单的神经元\n",
    "#定义权值\n",
    "w1=tf.Variable(tf.truncated_normal([784,2000],stddev=0.1));\n",
    "b1=tf.Variable(tf.zeros([2000])+0.1);\n",
    "# 激活函数\n",
    "L1 = tf.nn.tanh(tf.matmul(x,w1)+b1);\n",
    "L1_drop=tf.nn.dropout(L1,keep_prob);\n",
    "\n",
    "w2=tf.Variable(tf.truncated_normal([2000,20],stddev=0.1));\n",
    "b2=tf.Variable(tf.zeros([20])+0.1);\n",
    "L2 = tf.nn.tanh(tf.matmul(L1_drop,w2)+b2);\n",
    "L2_drop=tf.nn.dropout(L2,keep_prob);\n",
    "\n",
    "w3=tf.Variable(tf.truncated_normal([20,15],stddev=0.1));\n",
    "b3=tf.Variable(tf.zeros([15])+0.1);\n",
    "L3 = tf.nn.tanh(tf.matmul(L2_drop,w3)+b3);\n",
    "L3_drop=tf.nn.dropout(L3,keep_prob);\n",
    "\n",
    "w4=tf.Variable(tf.truncated_normal([15,10],stddev=0.1));\n",
    "b4=tf.Variable(tf.zeros([10])+0.1);\n",
    "prediction=tf.nn.softmax(tf.matmul(L3_drop,w4)+b4);\n",
    "\n",
    "#二次代价函数    激活函数\n",
    "#loss=tf.reduce_mean(tf.square(y-prediction));\n",
    "loss=tf.reduce_mean(tf.nn.sigmoid_cross_entropy_with_logits(labels=y,logits=prediction));\n",
    "#使用梯度下降\n",
    "train_step=tf.train.GradientDescentOptimizer(0.2).minimize(loss);\n",
    "\n",
    "#初始化值\n",
    "init= tf.global_variables_initializer();\n",
    "\n",
    "#结果是存放在一个布尔型列表中\n",
    "#argmax返回一维张量中最大的值所在的位置\n",
    "correct_prediction= tf.equal(tf.argmax(y,1),tf.argmax(prediction,1));\n",
    "#求准确率\n",
    "accuracy=tf.reduce_mean(tf.cast(correct_prediction,tf.float32));\n",
    "\n",
    "with tf.Session() as sess:\n",
    "    sess.run(init);\n",
    "    for epoch in range(21):\n",
    "        for barch in range(n_batch):\n",
    "            batch_xs,batch_ys=mnist.train.next_batch(batch_size);\n",
    "            sess.run(train_step,feed_dict={x:batch_xs,y:batch_ys,keep_prob:1.0});#keep_prob是没次训练的训练率，现在使用1，表示全部，0.5表示只使用50%神经元\n",
    "        \n",
    "        test_acc=sess.run(accuracy,feed_dict={x:mnist.test.images,y:mnist.test.labels,keep_prob:1.0});\n",
    "        train_acc=sess.run(accuracy,feed_dict={x:mnist.train.images,y:mnist.train.labels,keep_prob:1.0});\n",
    "        print(\"Iter \"+ str(epoch) + \" , Testing Accuracy \"+ str(test_acc));\n",
    "        print(\"Iter \"+ str(epoch) + \" , Training Accuracy \"+ str(train_acc));"
   ]
  },
  {
   "cell_type": "code",
   "execution_count": null,
   "metadata": {
    "collapsed": true
   },
   "outputs": [],
   "source": []
  }
 ],
 "metadata": {
  "anaconda-cloud": {},
  "kernelspec": {
   "display_name": "Python [default]",
   "language": "python",
   "name": "python3"
  },
  "language_info": {
   "codemirror_mode": {
    "name": "ipython",
    "version": 3
   },
   "file_extension": ".py",
   "mimetype": "text/x-python",
   "name": "python",
   "nbconvert_exporter": "python",
   "pygments_lexer": "ipython3",
   "version": "3.5.2"
  }
 },
 "nbformat": 4,
 "nbformat_minor": 1
}
