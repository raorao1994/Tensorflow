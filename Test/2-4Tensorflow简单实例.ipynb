{
 "cells": [
  {
   "cell_type": "code",
   "execution_count": 1,
   "metadata": {
    "collapsed": true
   },
   "outputs": [],
   "source": [
    "import tensorflow as tf;\n",
    "import numpy as np;"
   ]
  },
  {
   "cell_type": "code",
   "execution_count": 13,
   "metadata": {
    "collapsed": false
   },
   "outputs": [
    {
     "name": "stdout",
     "output_type": "stream",
     "text": [
      "0 [0.27278274, 0.66227943]\n",
      "20 [0.069831103, 0.21580414]\n",
      "40 [0.083280839, 0.20875816]\n",
      "60 [0.090734541, 0.20485362]\n",
      "80 [0.094865263, 0.20268977]\n",
      "100 [0.097154431, 0.20149063]\n",
      "120 [0.098423034, 0.20082608]\n",
      "140 [0.099126071, 0.2004578]\n",
      "160 [0.099515669, 0.20025371]\n",
      "180 [0.099731609, 0.2001406]\n",
      "200 [0.099851266, 0.20007791]\n"
     ]
    }
   ],
   "source": [
    "#使用numpy create 100 random num 使用numpy生成100个随机点\n",
    "x_data = np.random.rand(100);\n",
    "y_data = x_data*0.1+0.2;\n",
    "#construction a linear mode 创建一个线性模型\n",
    "b = tf.Variable(1.1);\n",
    "k = tf.Variable(0.5);\n",
    "y = k*x_data+b;\n",
    "\n",
    "#二次代价函数\n",
    "loss = tf.reduce_mean(tf.square(y_data-y));\n",
    "#定义一个梯度下降法来进行训练的优化器\n",
    "optimizer = tf.train.GradientDescentOptimizer(0.2);\n",
    "#最小化代价函数\n",
    "train = optimizer.minimize(loss);\n",
    "#初始化变量\n",
    "init = tf.global_variables_initializer();\n",
    "\n",
    "with tf.Session() as sess:\n",
    "    sess.run(init);\n",
    "    for step in range(201):\n",
    "        sess.run(train);\n",
    "        if step%20 == 0:\n",
    "            print(step,sess.run([k,b]));"
   ]
  },
  {
   "cell_type": "code",
   "execution_count": null,
   "metadata": {
    "collapsed": true
   },
   "outputs": [],
   "source": []
  }
 ],
 "metadata": {
  "anaconda-cloud": {},
  "kernelspec": {
   "display_name": "Python [default]",
   "language": "python",
   "name": "python3"
  },
  "language_info": {
   "codemirror_mode": {
    "name": "ipython",
    "version": 3
   },
   "file_extension": ".py",
   "mimetype": "text/x-python",
   "name": "python",
   "nbconvert_exporter": "python",
   "pygments_lexer": "ipython3",
   "version": "3.5.2"
  }
 },
 "nbformat": 4,
 "nbformat_minor": 1
}
