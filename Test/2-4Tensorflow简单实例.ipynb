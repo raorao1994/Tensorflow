{
 "cells": [
  {
   "cell_type": "code",
   "execution_count": 1,
   "metadata": {
    "collapsed": true
   },
   "outputs": [],
   "source": [
    "import tensorflow as tf;\n",
    "import numpy as np;"
   ]
  },
  {
   "cell_type": "code",
   "execution_count": 3,
   "metadata": {
    "collapsed": false
   },
   "outputs": [
    {
     "name": "stdout",
     "output_type": "stream",
     "text": [
      "Tensor(\"Mean_1:0\", shape=(), dtype=float32)\n",
      "0 [0.27980971, 0.66436458]\n",
      "Tensor(\"Mean_1:0\", shape=(), dtype=float32)\n",
      "20 [0.074870683, 0.21279885]\n",
      "Tensor(\"Mean_1:0\", shape=(), dtype=float32)\n",
      "40 [0.085970871, 0.20714496]\n",
      "Tensor(\"Mean_1:0\", shape=(), dtype=float32)\n",
      "60 [0.092167936, 0.20398882]\n",
      "Tensor(\"Mean_1:0\", shape=(), dtype=float32)\n",
      "80 [0.095627584, 0.20222685]\n",
      "Tensor(\"Mean_1:0\", shape=(), dtype=float32)\n",
      "100 [0.097558998, 0.20124319]\n",
      "Tensor(\"Mean_1:0\", shape=(), dtype=float32)\n",
      "120 [0.098637253, 0.20069404]\n",
      "Tensor(\"Mean_1:0\", shape=(), dtype=float32)\n",
      "140 [0.099239208, 0.20038746]\n",
      "Tensor(\"Mean_1:0\", shape=(), dtype=float32)\n",
      "160 [0.099575281, 0.20021631]\n",
      "Tensor(\"Mean_1:0\", shape=(), dtype=float32)\n",
      "180 [0.099762879, 0.20012076]\n",
      "Tensor(\"Mean_1:0\", shape=(), dtype=float32)\n",
      "200 [0.09986762, 0.20006742]\n"
     ]
    }
   ],
   "source": [
    "#使用numpy create 100 random num 使用numpy生成100个随机点\n",
    "x_data = np.random.rand(100);\n",
    "y_data = x_data*0.1+0.2;\n",
    "#construction a linear mode 创建一个线性模型\n",
    "b = tf.Variable(1.1);\n",
    "k = tf.Variable(0.5);\n",
    "y = k*x_data+b;\n",
    "\n",
    "#二次代价函数\n",
    "loss = tf.reduce_mean(tf.square(y_data-y));\n",
    "#定义一个梯度下降法来进行训练的优化器\n",
    "optimizer = tf.train.GradientDescentOptimizer(0.2);\n",
    "#最小化代价函数\n",
    "train = optimizer.minimize(loss);\n",
    "#初始化变量\n",
    "init = tf.global_variables_initializer();\n",
    "\n",
    "with tf.Session() as sess:\n",
    "    sess.run(init);\n",
    "    for step in range(201):\n",
    "        sess.run(train);\n",
    "        if step%20 == 0:\n",
    "            print(step,sess.run([k,b]));"
   ]
  },
  {
   "cell_type": "code",
   "execution_count": null,
   "metadata": {
    "collapsed": true
   },
   "outputs": [],
   "source": []
  }
 ],
 "metadata": {
  "anaconda-cloud": {},
  "kernelspec": {
   "display_name": "Python [default]",
   "language": "python",
   "name": "python3"
  },
  "language_info": {
   "codemirror_mode": {
    "name": "ipython",
    "version": 3
   },
   "file_extension": ".py",
   "mimetype": "text/x-python",
   "name": "python",
   "nbconvert_exporter": "python",
   "pygments_lexer": "ipython3",
   "version": "3.5.2"
  }
 },
 "nbformat": 4,
 "nbformat_minor": 1
}
