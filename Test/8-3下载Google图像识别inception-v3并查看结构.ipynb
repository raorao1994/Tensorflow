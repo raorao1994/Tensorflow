{
 "cells": [
  {
   "cell_type": "code",
   "execution_count": 1,
   "metadata": {
    "collapsed": true
   },
   "outputs": [],
   "source": [
    "import tensorflow as tf;\n",
    "import os;\n",
    "import tarfile;\n",
    "import requests;"
   ]
  },
  {
   "cell_type": "code",
   "execution_count": 4,
   "metadata": {
    "collapsed": false
   },
   "outputs": [
    {
     "name": "stdout",
     "output_type": "stream",
     "text": [
      "finish\n",
      "解压成功\n",
      "完成\n"
     ]
    }
   ],
   "source": [
    "#download model by address\n",
    "inception_pretrain_model_url= 'http://download.tensorflow.org/models/image/imagenet/inception-2015-12-05.tgz'\n",
    "inception_pretrain_model_dir=\"inception_model\";\n",
    "if not os.path.exists(inception_pretrain_model_dir):\n",
    "    os.makedirs(inception_pretrain_model_dir);\n",
    "#save model address\n",
    "filename=inception_pretrain_model_url.split(\"/\")[-1];\n",
    "filepath=os.path.join(inception_pretrain_model_dir,filename);\n",
    "\n",
    "#download model\n",
    "if not os.path.exists(filepath):\n",
    "    print(\"down: \" +filename);\n",
    "    r= requests.get(inception_pretrain_model_url,stream=True);\n",
    "    with open(filepath,\"wb\") as f:\n",
    "        for chunk in r.iter_content(chunk_size=1024):\n",
    "            if chunk:\n",
    "                f.write(chunk);\n",
    "print(\"finish\");\n",
    "\n",
    "#压缩文件\n",
    "tarfile.open(filepath,\"r:gz\").extractall(inception_pretrain_model_dir);\n",
    "print(\"解压成功\");\n",
    "log_dir=\"inception_log\";\n",
    "if not os.path.exists(log_dir):\n",
    "    os.makedirs(log_dir)\n",
    "\n",
    "#classify_image_graph_def.pb为google训练好的模型\n",
    "inception_graph_def_file = os.path.join(inception_pretrain_model_dir, 'classify_image_graph_def.pb')\n",
    "with tf.Session() as sess:\n",
    "    #创建一个图来存放google训练好的模型\n",
    "    with tf.gfile.FastGFile(inception_graph_def_file, 'rb') as f:\n",
    "        graph_def = tf.GraphDef()\n",
    "        graph_def.ParseFromString(f.read())\n",
    "        tf.import_graph_def(graph_def, name='')\n",
    "    #保存图的结构\n",
    "    writer = tf.summary.FileWriter(log_dir, sess.graph)\n",
    "    writer.close()\n",
    "print(\"完成\");"
   ]
  },
  {
   "cell_type": "code",
   "execution_count": null,
   "metadata": {
    "collapsed": true
   },
   "outputs": [],
   "source": []
  }
 ],
 "metadata": {
  "kernelspec": {
   "display_name": "Python [default]",
   "language": "python",
   "name": "python3"
  },
  "language_info": {
   "codemirror_mode": {
    "name": "ipython",
    "version": 3
   },
   "file_extension": ".py",
   "mimetype": "text/x-python",
   "name": "python",
   "nbconvert_exporter": "python",
   "pygments_lexer": "ipython3",
   "version": "3.5.2"
  }
 },
 "nbformat": 4,
 "nbformat_minor": 1
}
