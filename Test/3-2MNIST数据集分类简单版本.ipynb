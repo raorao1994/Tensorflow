{
 "cells": [
  {
   "cell_type": "code",
   "execution_count": 1,
   "metadata": {
    "collapsed": false
   },
   "outputs": [],
   "source": [
    "import tensorflow as tf;\n",
    "from tensorflow.examples.tutorials.mnist import input_data;"
   ]
  },
  {
   "cell_type": "code",
   "execution_count": 2,
   "metadata": {
    "collapsed": false
   },
   "outputs": [
    {
     "name": "stdout",
     "output_type": "stream",
     "text": [
      "Extracting MNIST_data\\train-images-idx3-ubyte.gz\n",
      "Extracting MNIST_data\\train-labels-idx1-ubyte.gz\n",
      "Extracting MNIST_data\\t10k-images-idx3-ubyte.gz\n",
      "Extracting MNIST_data\\t10k-labels-idx1-ubyte.gz\n",
      "Iter 0 , Testing Accuracy 0.9264\n",
      "[ True  True  True ...,  True False  True]\n"
     ]
    }
   ],
   "source": [
    "#载入数据集\n",
    "#会自动下载数据集\n",
    "mnist=input_data.read_data_sets(\"MNIST_data\",one_hot=True);\n",
    "#每次批次的大小,一次性放100张图片进行训练\n",
    "batch_size=100;\n",
    "#计算一共有多少个批次\n",
    "n_batch=mnist.train.num_examples;\n",
    "\n",
    "#定义两个placehold\n",
    "#图片是28*28=784\n",
    "x=tf.placeholder(tf.float32,[None,784]);\n",
    "#0-9,总共10个数字\n",
    "y=tf.placeholder(tf.float32,[None,10]);\n",
    "\n",
    "#创建一个简单的神经元\n",
    "#定义权值\n",
    "w=tf.Variable(tf.zeros([784,10]));\n",
    "#定义偏执值\n",
    "b=tf.Variable(tf.zeros([10]));\n",
    "prediction = tf.nn.softmax(tf.matmul(x,w)+b);\n",
    "\n",
    "#二次代价函数    激活函数\n",
    "loss=tf.reduce_mean(tf.square(y-prediction));\n",
    "#使用梯度下降\n",
    "train_step=tf.train.GradientDescentOptimizer(0.2).minimize(loss);\n",
    "\n",
    "#初始化值\n",
    "init= tf.global_variables_initializer();\n",
    "\n",
    "#结果是存放在一个布尔型列表中\n",
    "#argmax返回一维张量中最大的值所在的位置\n",
    "correct_prediction= tf.equal(tf.argmax(y,1),tf.argmax(prediction,1));\n",
    "#输出结果[ True  True  True ...,  True False  True]\n",
    "#求准确率\n",
    "#tf.cast输出结果：[ 1.0  1.0  1.0 ...,  1.0 0.0  1.0]\n",
    "accuracy=tf.reduce_mean(tf.cast(correct_prediction,tf.float32));\n",
    "\n",
    "with tf.Session() as sess:\n",
    "    sess.run(init);\n",
    "    for epoch in range(1):\n",
    "        for barch in range(n_batch):\n",
    "            batch_xs,batch_ys=mnist.train.next_batch(batch_size);\n",
    "            sess.run(train_step,feed_dict={x:batch_xs,y:batch_ys});\n",
    "        acc=sess.run(accuracy,feed_dict={x:mnist.test.images,y:mnist.test.labels});\n",
    "        print(\"Iter \"+ str(epoch) + \" , Testing Accuracy \"+ str(acc));\n",
    "    print(sess.run(correct_prediction,feed_dict={x:mnist.test.images,y:mnist.test.labels}));"
   ]
  },
  {
   "cell_type": "code",
   "execution_count": null,
   "metadata": {
    "collapsed": true
   },
   "outputs": [],
   "source": []
  }
 ],
 "metadata": {
  "anaconda-cloud": {},
  "kernelspec": {
   "display_name": "Python [default]",
   "language": "python",
   "name": "python3"
  },
  "language_info": {
   "codemirror_mode": {
    "name": "ipython",
    "version": 3
   },
   "file_extension": ".py",
   "mimetype": "text/x-python",
   "name": "python",
   "nbconvert_exporter": "python",
   "pygments_lexer": "ipython3",
   "version": "3.5.2"
  }
 },
 "nbformat": 4,
 "nbformat_minor": 1
}
