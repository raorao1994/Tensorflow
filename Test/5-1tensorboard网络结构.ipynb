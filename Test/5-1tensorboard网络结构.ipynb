{
 "cells": [
  {
   "cell_type": "code",
   "execution_count": 4,
   "metadata": {
    "collapsed": true
   },
   "outputs": [],
   "source": [
    "import tensorflow as tf;\n",
    "from tensorflow.examples.tutorials.mnist import input_data;"
   ]
  },
  {
   "cell_type": "code",
   "execution_count": 5,
   "metadata": {
    "collapsed": false
   },
   "outputs": [
    {
     "name": "stdout",
     "output_type": "stream",
     "text": [
      "Extracting MNIST_data\\train-images-idx3-ubyte.gz\n",
      "Extracting MNIST_data\\train-labels-idx1-ubyte.gz\n",
      "Extracting MNIST_data\\t10k-images-idx3-ubyte.gz\n",
      "Extracting MNIST_data\\t10k-labels-idx1-ubyte.gz\n",
      "Iter 0 , Testing Accuracy 0.9264\n"
     ]
    }
   ],
   "source": [
    "#载入数据集\n",
    "#会自动下载数据集\n",
    "mnist=input_data.read_data_sets(\"MNIST_data\",one_hot=True);\n",
    "#每次批次的大小,一次性放100张图片进行训练\n",
    "batch_size=100;\n",
    "#计算一共有多少个批次\n",
    "n_batch=mnist.train.num_examples;\n",
    "\n",
    "#命名空间\n",
    "with tf.name_scope(\"input\"):\n",
    "    #定义两个placehold\n",
    "    #图片是28*28=784\n",
    "    x=tf.placeholder(tf.float32,[None,784],name=\"input_x\");\n",
    "    #0-9,总共10个数字\n",
    "    y=tf.placeholder(tf.float32,[None,10],name=\"input_y\");\n",
    "\n",
    "with tf.name_scope(\"layer\"):\n",
    "    with tf.name_scope(\"wights\"):\n",
    "        #创建一个简单的神经元\n",
    "        #定义权值\n",
    "        w=tf.Variable(tf.zeros([784,10]));\n",
    "    with tf.name_scope(\"biases\"):\n",
    "        #定义偏执值\n",
    "        b=tf.Variable(tf.zeros([10]));\n",
    "    with tf.name_scope(\"softmax\"):\n",
    "        wx_plus_b=tf.matmul(x,w)+b;\n",
    "    with tf.name_scope(\"softmax\"):\n",
    "        prediction = tf.nn.softmax(wx_plus_b);\n",
    "\n",
    "#二次代价函数    激活函数\n",
    "with tf.name_scope('loss'):\n",
    "    loss=tf.reduce_mean(tf.square(y-prediction));\n",
    "#使用梯度下降\n",
    "with tf.name_scope('train_step'):\n",
    "    train_step=tf.train.GradientDescentOptimizer(0.2).minimize(loss);\n",
    "\n",
    "#初始化值\n",
    "init= tf.global_variables_initializer();\n",
    "\n",
    "with tf.name_scope('acuracy'):\n",
    "    #结果是存放在一个布尔型列表中\n",
    "    #argmax返回一维张量中最大的值所在的位置\n",
    "    with tf.name_scope('correct_prediction'):\n",
    "        correct_prediction= tf.equal(tf.argmax(y,1),tf.argmax(prediction,1));\n",
    "    with tf.name_scope('accuracy'):\n",
    "        #求准确率\n",
    "        accuracy=tf.reduce_mean(tf.cast(correct_prediction,tf.float32));\n",
    "\n",
    "with tf.Session() as sess:\n",
    "    sess.run(init);\n",
    "    #写入文件\n",
    "    writer=tf.summary.FileWriter(\"logs/\",sess.graph);\n",
    "    for epoch in range(1):\n",
    "        for barch in range(n_batch):\n",
    "            batch_xs,batch_ys=mnist.train.next_batch(batch_size);\n",
    "            sess.run(train_step,feed_dict={x:batch_xs,y:batch_ys});\n",
    "        \n",
    "        acc=sess.run(accuracy,feed_dict={x:mnist.test.images,y:mnist.test.labels});\n",
    "        print(\"Iter \"+ str(epoch) + \" , Testing Accuracy \"+ str(acc));"
   ]
  },
  {
   "cell_type": "code",
   "execution_count": null,
   "metadata": {
    "collapsed": true
   },
   "outputs": [],
   "source": []
  }
 ],
 "metadata": {
  "kernelspec": {
   "display_name": "Python [default]",
   "language": "python",
   "name": "python3"
  },
  "language_info": {
   "codemirror_mode": {
    "name": "ipython",
    "version": 3
   },
   "file_extension": ".py",
   "mimetype": "text/x-python",
   "name": "python",
   "nbconvert_exporter": "python",
   "pygments_lexer": "ipython3",
   "version": "3.5.2"
  }
 },
 "nbformat": 4,
 "nbformat_minor": 1
}
