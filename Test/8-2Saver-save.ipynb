{
 "cells": [
  {
   "cell_type": "code",
   "execution_count": 1,
   "metadata": {
    "collapsed": true
   },
   "outputs": [],
   "source": [
    "import tensorflow as tf;\n",
    "from tensorflow.examples.tutorials.mnist import input_data;"
   ]
  },
  {
   "cell_type": "code",
   "execution_count": 2,
   "metadata": {
    "collapsed": false
   },
   "outputs": [
    {
     "name": "stdout",
     "output_type": "stream",
     "text": [
      "Extracting MNIST_data\\train-images-idx3-ubyte.gz\n",
      "Extracting MNIST_data\\train-labels-idx1-ubyte.gz\n",
      "Extracting MNIST_data\\t10k-images-idx3-ubyte.gz\n",
      "Extracting MNIST_data\\t10k-labels-idx1-ubyte.gz\n",
      "item:0 acc=0.94\n",
      "item:1 acc=0.93\n"
     ]
    }
   ],
   "source": [
    "mnist = input_data.read_data_sets(\"MNIST_data\",one_hot=True);\n",
    "batch_size=100;\n",
    "\n",
    "batch_mun = mnist.train.num_examples;\n",
    "\n",
    "x = tf.placeholder(tf.float32,[None,784]);\n",
    "y = tf.placeholder(tf.float32,[None,10]);\n",
    "\n",
    "weights = tf.Variable(tf.zeros([784,10]));\n",
    "biases = tf.Variable(tf.zeros([10]));\n",
    "\n",
    "prediction= tf.nn.softmax(tf.matmul(x,weights)+biases);\n",
    "\n",
    "\n",
    "loss = tf.reduce_mean(tf.nn.softmax_cross_entropy_with_logits(logits=prediction,labels=y));\n",
    "\n",
    "train_step = tf.train.GradientDescentOptimizer(0.2).minimize(loss);\n",
    "\n",
    "init = tf.global_variables_initializer();\n",
    "\n",
    "correct_prediction = tf.equal(tf.argmax(y,1),tf.argmax(prediction,1));\n",
    "accuracy = tf.reduce_mean(tf.cast(correct_prediction,tf.float32));\n",
    "\n",
    "saver = tf.train.Saver();\n",
    "with tf.Session() as sess:\n",
    "    sess.run(init);\n",
    "    for epoch in range(2):\n",
    "        for batch in range(batch_mun):\n",
    "            batch_x,batch_y=mnist.train.next_batch(batch_size);\n",
    "            sess.run(train_step,feed_dict={x:batch_x,y:batch_y});\n",
    "        acc=sess.run(accuracy,feed_dict={x:batch_x,y:batch_y});\n",
    "        print(\"item:\"+str(epoch)+\" acc=\"+str(acc));\n",
    "    #保存模型\n",
    "    saver.save(sess,\"net/my_net.ckpt\");\n"
   ]
  },
  {
   "cell_type": "code",
   "execution_count": null,
   "metadata": {
    "collapsed": true
   },
   "outputs": [],
   "source": []
  }
 ],
 "metadata": {
  "kernelspec": {
   "display_name": "Python [default]",
   "language": "python",
   "name": "python3"
  },
  "language_info": {
   "codemirror_mode": {
    "name": "ipython",
    "version": 3
   },
   "file_extension": ".py",
   "mimetype": "text/x-python",
   "name": "python",
   "nbconvert_exporter": "python",
   "pygments_lexer": "ipython3",
   "version": "3.5.2"
  }
 },
 "nbformat": 4,
 "nbformat_minor": 1
}
