{
 "cells": [
  {
   "cell_type": "code",
   "execution_count": 3,
   "metadata": {
    "collapsed": false
   },
   "outputs": [],
   "source": [
    "import tensorflow as tf;\n",
    "from tensorflow.examples.tutorials.mnist import input_data;"
   ]
  },
  {
   "cell_type": "code",
   "execution_count": null,
   "metadata": {
    "collapsed": false
   },
   "outputs": [
    {
     "name": "stdout",
     "output_type": "stream",
     "text": [
      "Extracting MNIST_data\\train-images-idx3-ubyte.gz\n",
      "Extracting MNIST_data\\train-labels-idx1-ubyte.gz\n",
      "Extracting MNIST_data\\t10k-images-idx3-ubyte.gz\n",
      "Extracting MNIST_data\\t10k-labels-idx1-ubyte.gz\n"
     ]
    }
   ],
   "source": [
    "#input data set\n",
    "mnist = input_data.read_data_sets(\"MNIST_data\",one_hot=True);\n",
    "\n",
    "#input images row and col is 28*28\n",
    "n_inputs=28;#one row have 28 data\n",
    "max_time=28;#one col have 28 data\n",
    "lstm_size=100;#hidden 隐层单元\n",
    "n_classes=10;#10 calsses 10个分类\n",
    "batch_size=50;#every batch have 50 features\n",
    "n_batch=mnist.train.num_examples;#calculate have how much bacth\n",
    "\n",
    "x=tf.placeholder(tf.float32,[None,784]);\n",
    "y=tf.placeholder(tf.float32,[None,10]);\n",
    "\n",
    "#initialise variable\n",
    "weights = tf.Variable(tf.truncated_normal([lstm_size,n_classes],stddev=0.1));\n",
    "biases = tf.Variable(tf.constant(0.1,shape=[n_classes]));\n",
    "\n",
    "#define RNN network\n",
    "def RNN(X,weights,biases):\n",
    "    #inputs=[batch_size,max_time,n_inputs]\n",
    "    inputs=tf.reshape(X,[-1,max_time,n_inputs]);\n",
    "    #define LSTM basic type cell\n",
    "    #lstm_cell = tf.contrib.rnn.core_rnn_cell.BasicLSTMCell(lstm_size);\n",
    "    lstm_cell = tf.contrib.rnn.BasicLSTMCell(lstm_size);\n",
    "    outputs,final_state=tf.nn.dynamic_rnn(lstm_cell,inputs,dtype=tf.float32);\n",
    "    results= tf.nn.softmax(tf.matmul(final_state[1],weights+biases));\n",
    "    return results;\n",
    "#calculate RNN result\n",
    "prediction = RNN(x,weights,biases);\n",
    "#损失函数\n",
    "cross_entropy = tf.reduce_mean(tf.nn.softmax_cross_entropy_with_logits(logits=prediction,labels=y));\n",
    "#使用AdamOptimizer进行优化\n",
    "train_step = tf.train.AdamOptimizer(1e-4).minimize(cross_entropy);\n",
    "#结果存放在一个布尔型列表中\n",
    "correct_prediction=tf.equal(tf.argmax(y,1),tf.argmax(prediction,1));\n",
    "#求准确率# 把correct_prediction变为float32类型\n",
    "accuracy = tf.reduce_mean(tf.cast(correct_prediction,tf.float32));\n",
    "init = tf.global_variables_initializer();\n",
    "\n",
    "with tf.Session() as sess:\n",
    "    sess.run(init)\n",
    "    for epoch in range(6):\n",
    "        for batch in range(n_batch):\n",
    "            batch_xs,batch_ys =  mnist.train.next_batch(batch_size)\n",
    "            sess.run(train_step,feed_dict={x:batch_xs,y:batch_ys})\n",
    "        \n",
    "        acc = sess.run(accuracy,feed_dict={x:mnist.test.images,y:mnist.test.labels})\n",
    "        print (\"Iter \" + str(epoch) + \", Testing Accuracy= \" + str(acc))\n"
   ]
  },
  {
   "cell_type": "code",
   "execution_count": null,
   "metadata": {
    "collapsed": true
   },
   "outputs": [],
   "source": []
  }
 ],
 "metadata": {
  "anaconda-cloud": {},
  "kernelspec": {
   "display_name": "Python [default]",
   "language": "python",
   "name": "python3"
  },
  "language_info": {
   "codemirror_mode": {
    "name": "ipython",
    "version": 3
   },
   "file_extension": ".py",
   "mimetype": "text/x-python",
   "name": "python",
   "nbconvert_exporter": "python",
   "pygments_lexer": "ipython3",
   "version": "3.5.2"
  }
 },
 "nbformat": 4,
 "nbformat_minor": 1
}
