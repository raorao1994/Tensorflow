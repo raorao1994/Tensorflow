{
 "cells": [
  {
   "cell_type": "code",
   "execution_count": 1,
   "metadata": {
    "collapsed": false
   },
   "outputs": [
    {
     "name": "stdout",
     "output_type": "stream",
     "text": [
      "hello world\n",
      "shift + enter键执行程序\n"
     ]
    }
   ],
   "source": [
    "print(\"hello world\");\n",
    "print(\"shift + enter键执行程序\")"
   ]
  },
  {
   "cell_type": "code",
   "execution_count": 3,
   "metadata": {
    "collapsed": false
   },
   "outputs": [
    {
     "name": "stdout",
     "output_type": "stream",
     "text": [
      "hello world\n",
      "shift + enter键执行程序\n",
      "hello world\n",
      "shift + enter键执行程序\n",
      "hello world\n",
      "shift + enter键执行程序\n"
     ]
    }
   ],
   "source": [
    "print(\"hello world\");\n",
    "print(\"shift + enter键执行程序\");\n",
    "print(\"hello world\");\n",
    "print(\"shift + enter键执行程序\");\n",
    "print(\"hello world\");\n",
    "print(\"shift + enter键执行程序\");"
   ]
  },
  {
   "cell_type": "code",
   "execution_count": null,
   "metadata": {
    "collapsed": true
   },
   "outputs": [],
   "source": []
  }
 ],
 "metadata": {
  "anaconda-cloud": {},
  "kernelspec": {
   "display_name": "Python [default]",
   "language": "python",
   "name": "python3"
  },
  "language_info": {
   "codemirror_mode": {
    "name": "ipython",
    "version": 3
   },
   "file_extension": ".py",
   "mimetype": "text/x-python",
   "name": "python",
   "nbconvert_exporter": "python",
   "pygments_lexer": "ipython3",
   "version": "3.5.2"
  }
 },
 "nbformat": 4,
 "nbformat_minor": 1
}
