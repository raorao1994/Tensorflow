{
 "cells": [
  {
   "cell_type": "code",
   "execution_count": 1,
   "metadata": {
    "collapsed": true
   },
   "outputs": [],
   "source": [
    "import tensorflow as tf;"
   ]
  },
  {
   "cell_type": "code",
   "execution_count": 5,
   "metadata": {
    "collapsed": false
   },
   "outputs": [
    {
     "name": "stdout",
     "output_type": "stream",
     "text": [
      "[-1 -2]\n",
      "[0 1]\n"
     ]
    }
   ],
   "source": [
    "x=tf.Variable([1,3]);\n",
    "a=tf.Variable([2,5]);\n",
    "#add one add and subtraction operate 添加一个加减法op\n",
    "sub=tf.subtract(x,a);\n",
    "add=tf.add(x,sub);\n",
    "#initialise variable初始化变量\n",
    "init=tf.global_variables_initializer();\n",
    "#create a session to execute operate\n",
    "with tf.Session() as sess:\n",
    "    sess.run(init);\n",
    "    print(sess.run(sub));\n",
    "    print(sess.run(add));"
   ]
  },
  {
   "cell_type": "code",
   "execution_count": 8,
   "metadata": {
    "collapsed": false
   },
   "outputs": [
    {
     "name": "stdout",
     "output_type": "stream",
     "text": [
      "0\n",
      "1\n",
      "2\n",
      "3\n",
      "4\n",
      "5\n"
     ]
    }
   ],
   "source": [
    "#create a variable ,and initialise is zero\n",
    "state = tf.Variable(0,name='counter');\n",
    "#create a opetate,made state add 1;\n",
    "new_value = tf.add(state,1);\n",
    "update=tf.assign(state,new_value);\n",
    "#initialise variable\n",
    "init=tf.global_variables_initializer();\n",
    "with tf.Session() as sess:\n",
    "    sess.run(init);\n",
    "    print(sess.run(state));\n",
    "    for _ in range(5):\n",
    "        sess.run(update);\n",
    "        print(sess.run(state));"
   ]
  },
  {
   "cell_type": "code",
   "execution_count": null,
   "metadata": {
    "collapsed": true
   },
   "outputs": [],
   "source": []
  }
 ],
 "metadata": {
  "anaconda-cloud": {},
  "kernelspec": {
   "display_name": "Python [default]",
   "language": "python",
   "name": "python3"
  },
  "language_info": {
   "codemirror_mode": {
    "name": "ipython",
    "version": 3
   },
   "file_extension": ".py",
   "mimetype": "text/x-python",
   "name": "python",
   "nbconvert_exporter": "python",
   "pygments_lexer": "ipython3",
   "version": "3.5.2"
  }
 },
 "nbformat": 4,
 "nbformat_minor": 1
}
