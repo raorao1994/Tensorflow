{
 "cells": [
  {
   "cell_type": "code",
   "execution_count": 1,
   "metadata": {
    "collapsed": false
   },
   "outputs": [
    {
     "ename": "TypeError",
     "evalue": "__init__() got an unexpected keyword argument 'svd_solver'",
     "output_type": "error",
     "traceback": [
      "\u001b[0;31m---------------------------------------------------------------------------\u001b[0m",
      "\u001b[0;31mTypeError\u001b[0m                                 Traceback (most recent call last)",
      "\u001b[0;32m<ipython-input-1-437e18c023e7>\u001b[0m in \u001b[0;36m<module>\u001b[0;34m()\u001b[0m\n\u001b[1;32m     10\u001b[0m PCA_Set=[     \n\u001b[1;32m     11\u001b[0m     \u001b[0mdecomposition\u001b[0m\u001b[1;33m.\u001b[0m\u001b[0mPCA\u001b[0m\u001b[1;33m(\u001b[0m\u001b[0mn_components\u001b[0m\u001b[1;33m=\u001b[0m\u001b[1;32mNone\u001b[0m\u001b[1;33m)\u001b[0m\u001b[1;33m,\u001b[0m\u001b[1;33m\u001b[0m\u001b[0m\n\u001b[0;32m---> 12\u001b[0;31m     \u001b[0mdecomposition\u001b[0m\u001b[1;33m.\u001b[0m\u001b[0mPCA\u001b[0m\u001b[1;33m(\u001b[0m\u001b[0msvd_solver\u001b[0m \u001b[1;33m=\u001b[0m \u001b[1;34m'randomized'\u001b[0m\u001b[1;33m)\u001b[0m\u001b[1;33m,\u001b[0m\u001b[1;33m\u001b[0m\u001b[0m\n\u001b[0m\u001b[1;32m     13\u001b[0m     \u001b[0mdecomposition\u001b[0m\u001b[1;33m.\u001b[0m\u001b[0mSparsePCA\u001b[0m\u001b[1;33m(\u001b[0m\u001b[0mn_components\u001b[0m\u001b[1;33m=\u001b[0m\u001b[1;32mNone\u001b[0m\u001b[1;33m)\u001b[0m\u001b[1;33m,\u001b[0m\u001b[1;33m\u001b[0m\u001b[0m\n\u001b[1;32m     14\u001b[0m     \u001b[0mdecomposition\u001b[0m\u001b[1;33m.\u001b[0m\u001b[0mIncrementalPCA\u001b[0m\u001b[1;33m(\u001b[0m\u001b[0mn_components\u001b[0m\u001b[1;33m=\u001b[0m\u001b[1;32mNone\u001b[0m\u001b[1;33m)\u001b[0m\u001b[1;33m,\u001b[0m\u001b[1;33m\u001b[0m\u001b[0m\n",
      "\u001b[0;31mTypeError\u001b[0m: __init__() got an unexpected keyword argument 'svd_solver'"
     ]
    }
   ],
   "source": [
    "import numpy as np  \n",
    "import matplotlib.pyplot as plt  \n",
    "from sklearn import datasets,decomposition,manifold  \n",
    "from itertools import cycle  \n",
    "def load_data():  \n",
    "    iris=datasets.load_iris()  \n",
    "    return iris.data,iris.target  \n",
    "  \n",
    "  \n",
    "PCA_Set=[     \n",
    "    decomposition.PCA(n_components=None),  \n",
    "    #decomposition.PCA(svd_solver = 'randomized'),   \n",
    "    decomposition.SparsePCA(n_components=None),  \n",
    "    decomposition.IncrementalPCA(n_components=None),  \n",
    "    decomposition.KernelPCA(n_components=None,kernel='linear'),  \n",
    "    decomposition.KernelPCA(n_components=None,kernel='rbf'),  \n",
    "    decomposition.KernelPCA(n_components=None,kernel='poly'),  \n",
    "    decomposition.KernelPCA(n_components=None,kernel='sigmoid'),    \n",
    "    decomposition.FastICA(n_components=None)  \n",
    "    ]  \n",
    "PCA_Set_Name=[     \n",
    "    'Default',  \n",
    "    #'Randomized',  \n",
    "    'Sparse',  \n",
    "    'Incremental',  \n",
    "    'Kernel(linear)',  \n",
    "    'Kernel(rbf)',  \n",
    "    'Kernel(poly)',  \n",
    "    'Kernel(sigmoid)',    \n",
    "    'ICA'  \n",
    "    ]      \n",
    "  \n",
    "  \n",
    "  \n",
    "def plot_PCA(*data):  \n",
    "    X,Y=data  \n",
    "    fig=plt.figure(\"PCA\",figsize=(20, 8))  \n",
    "  \n",
    "    ax=fig.add_subplot(2,5,1)   \n",
    "    colors=cycle('rgbcmykw')  \n",
    "    for label,color in zip(np.unique(Y),colors):  \n",
    "        position=Y==label  \n",
    "        ax.scatter(X[position,0],X[position,1],label=\"target=%d\"%label,color=color)  \n",
    "    plt.xticks(fontsize=10, color=\"darkorange\")    \n",
    "    plt.yticks(fontsize=10, color=\"darkorange\")   \n",
    "    ax.set_title('Original')    \n",
    "      \n",
    "    for i,PCA in enumerate(PCA_Set):  \n",
    "        pca=PCA  \n",
    "        pca.fit(X)         \n",
    "        X_r=pca.transform(X)  \n",
    "  \n",
    "        if i==0:  \n",
    "            print(\"各主成分的方差值:\"+str(pca.explained_variance_))  \n",
    "            print(\"各主成分的方差值比:\"+str(pca.explained_variance_ratio_))  \n",
    "  \n",
    "        ax=fig.add_subplot(2,5,i+2)     \n",
    "        colors=cycle('rgbcmykw')  \n",
    "        for label,color in zip(np.unique(Y),colors):  \n",
    "            position=Y==label  \n",
    "            ax.scatter(X_r[position,0],X_r[position,1],label=\"target=%d\"%label,color=color)  \n",
    "        plt.xticks(fontsize=10, color=\"darkorange\")    \n",
    "        plt.yticks(fontsize=10, color=\"darkorange\")   \n",
    "        ax.set_title(PCA_Set_Name[i])             \n",
    "    plt.show()  \n",
    "  \n",
    "X,Y=load_data()  \n",
    "plot_PCA(X,Y)  "
   ]
  },
  {
   "cell_type": "code",
   "execution_count": null,
   "metadata": {
    "collapsed": true
   },
   "outputs": [],
   "source": []
  }
 ],
 "metadata": {
  "anaconda-cloud": {},
  "kernelspec": {
   "display_name": "Python [default]",
   "language": "python",
   "name": "python3"
  },
  "language_info": {
   "codemirror_mode": {
    "name": "ipython",
    "version": 3
   },
   "file_extension": ".py",
   "mimetype": "text/x-python",
   "name": "python",
   "nbconvert_exporter": "python",
   "pygments_lexer": "ipython3",
   "version": "3.5.2"
  }
 },
 "nbformat": 4,
 "nbformat_minor": 1
}
