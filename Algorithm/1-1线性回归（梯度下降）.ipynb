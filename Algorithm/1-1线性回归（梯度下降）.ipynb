{
 "cells": [
  {
   "cell_type": "code",
   "execution_count": 3,
   "metadata": {
    "collapsed": true
   },
   "outputs": [],
   "source": [
    "import numpy as np;"
   ]
  },
  {
   "cell_type": "code",
   "execution_count": 11,
   "metadata": {
    "collapsed": false
   },
   "outputs": [
    {
     "name": "stdout",
     "output_type": "stream",
     "text": [
      "i=0 x=-3.8 y=23.04 grad=12\n",
      "i=1 x=-2.84 y=14.7456 grad=9.6\n",
      "i=2 x=-2.072 y=9.437184 grad=7.68\n",
      "i=3 x=-1.4576 y=6.03979776 grad=6.144\n",
      "i=4 x=-0.9660799999999999 y=3.8654705664 grad=4.9152000000000005\n",
      "i=5 x=-0.5728639999999999 y=2.473901162496 grad=3.9321599999999997\n",
      "i=6 x=-0.2582911999999999 y=1.5832967439974397 grad=3.145728\n",
      "i=7 x=-0.00663295999999991 y=1.0133099161583614 grad=2.5165824\n",
      "i=8 x=0.1946936320000001 y=0.6485183463413513 grad=2.01326592\n",
      "i=9 x=0.3557549056000001 y=0.4150517416584647 grad=1.6106127359999998\n",
      "i=10 x=0.4846039244800001 y=0.2656331146614175 grad=1.2884901887999998\n",
      "i=11 x=0.5876831395840001 y=0.1700051933833071 grad=1.0307921510399998\n",
      "i=12 x=0.6701465116672001 y=0.10880332376531654 grad=0.8246337208319998\n",
      "i=13 x=0.73611720933376 y=0.06963412720980267 grad=0.6597069766655999\n",
      "i=14 x=0.788893767467008 y=0.044565841414273666 grad=0.52776558133248\n",
      "i=15 x=0.8311150139736064 y=0.028522138505135186 grad=0.422212465065984\n",
      "i=16 x=0.8648920111788851 y=0.01825416864328655 grad=0.33776997205278714\n",
      "i=17 x=0.8919136089431081 y=0.011682667931703361 grad=0.2702159776422297\n",
      "i=18 x=0.9135308871544865 y=0.007476907476290151 grad=0.21617278211378377\n",
      "i=19 x=0.9308247097235892 y=0.004785220784825683 grad=0.17293822569102701\n",
      "i=20 x=0.9446597677788714 y=0.0030625413022884462 grad=0.13835058055282157\n",
      "i=21 x=0.9557278142230972 y=0.001960026433464601 grad=0.11068046444225721\n",
      "i=22 x=0.9645822513784778 y=0.0012544169174173447 grad=0.08854437155380568\n"
     ]
    }
   ],
   "source": [
    "#主函数\n",
    "def f(x):\n",
    "    return x*x-2*x+1;\n",
    "#求导\n",
    "def g(x):\n",
    "    return 2*x-2;\n",
    "#梯度下降\n",
    "def GradientDescent(x,rate):\n",
    "    _x=x;\n",
    "    i=0;\n",
    "    while i>=0:\n",
    "        grad=-1*g(_x);\n",
    "        _x=_x+grad*rate;\n",
    "        y=f(_x);\n",
    "        print(\"i=\" +str(i)+\" x=\"+str(_x)+\" y=\"+str(y)+\" grad=\"+str(grad));\n",
    "        if abs(grad)<0.1:\n",
    "            break;\n",
    "        i=i+1;\n",
    "    return _x;\n",
    "\n",
    "if __name__==\"__main__\":\n",
    "    x=-5;rate=0.1;\n",
    "    GradientDescent(x,rate);"
   ]
  },
  {
   "cell_type": "code",
   "execution_count": null,
   "metadata": {
    "collapsed": true
   },
   "outputs": [],
   "source": []
  }
 ],
 "metadata": {
  "anaconda-cloud": {},
  "kernelspec": {
   "display_name": "Python [default]",
   "language": "python",
   "name": "python3"
  },
  "language_info": {
   "codemirror_mode": {
    "name": "ipython",
    "version": 3
   },
   "file_extension": ".py",
   "mimetype": "text/x-python",
   "name": "python",
   "nbconvert_exporter": "python",
   "pygments_lexer": "ipython3",
   "version": "3.5.2"
  }
 },
 "nbformat": 4,
 "nbformat_minor": 1
}
