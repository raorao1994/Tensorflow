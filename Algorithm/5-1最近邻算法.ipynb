{
 "cells": [
  {
   "cell_type": "code",
   "execution_count": 1,
   "metadata": {
    "collapsed": false
   },
   "outputs": [
    {
     "name": "stdout",
     "output_type": "stream",
     "text": [
      "input =  [1.9 0.5]\n",
      "class =  A\n"
     ]
    },
    {
     "data": {
      "image/png": "[encoded data removed]",
      "text/plain": [
       "<matplotlib.figure.Figure at 0x2362da16668>"
      ]
     },
     "metadata": {},
     "output_type": "display_data"
    }
   ],
   "source": [
    "#coding:utf-8  \n",
    "import sys  \n",
    "from numpy import *  \n",
    "import operator  \n",
    "import matplotlib.pyplot as plt    \n",
    "  \n",
    "def classify(input,dataSet,label):  \n",
    "    dataSize = dataSet.shape[0]  \n",
    "    ####计算欧式距离  \n",
    "    tarry=tile(input,(dataSize,1));#生成dataSet一样的矩阵，进行剪发运算\n",
    "    diff = tarry - dataSet  \n",
    "    sqdiff = diff ** 2  #各参数平方（X²，Y²），得到距离\n",
    "    squareDist = sum(sqdiff,axis = 1)#行向量分别相加，从而得到新的一个行向量  X²，Y²相加，\n",
    "    dist = list(squareDist ** 0.5)  #开放，得到欧式距离\n",
    "    return label[dist.index(min(dist))]  #返回最近邻  //找到距离最小值，并得与之对应的类型\n",
    "  \n",
    "  \n",
    "dataSet = array([[0.1,2.8],[1.9,0.6],[1.0,2.0],  \n",
    "                 [3.0,2.5],[2.0,2.5],[1.8,3.0],  \n",
    "                 [0.1,0.1],[0.5,0.5],[1.5,0.5],  \n",
    "                 [1.5,1.5],[1.7,0.1],[2.5,0.2],  \n",
    "                 ])  \n",
    "labels = ['A','A','A','B','B','B','C','C','C','D','D','D']  \n",
    "  \n",
    "input = array([1.9,0.5])  \n",
    "  \n",
    "print(\"input = \",input)  \n",
    "output = classify(input,dataSet,labels)  \n",
    "print(\"class = \",output)  \n",
    "  \n",
    "plt.figure(figsize=(5,5))    \n",
    "  \n",
    "for i,j in enumerate(dataSet):  \n",
    "    if labels[i] == 'A':  \n",
    "        plt.scatter(j[0],j[1],marker =\"^\",c=\"blue\",s=80)   \n",
    "    elif labels[i] == 'B':  \n",
    "        plt.scatter(j[0],j[1],marker =\"D\",c =\"green\",s=80)   \n",
    "    elif labels[i] == 'C':  \n",
    "        plt.scatter(j[0],j[1],marker =\"o\",c =\"darkorange\",s=80)  \n",
    "    elif labels[i] == 'D':  \n",
    "        plt.scatter(j[0],j[1],marker =\"s\",c =\"purple\",s=80)   \n",
    "  \n",
    "plt.scatter(input[0],input[1],marker =\"*\",c =\"red\",s=200)   \n",
    "  \n",
    "plt.axis('tight')    \n",
    "    \n",
    "plt.show()  "
   ]
  },
  {
   "cell_type": "code",
   "execution_count": null,
   "metadata": {
    "collapsed": true
   },
   "outputs": [],
   "source": []
  }
 ],
 "metadata": {
  "anaconda-cloud": {},
  "kernelspec": {
   "display_name": "Python [default]",
   "language": "python",
   "name": "python3"
  },
  "language_info": {
   "codemirror_mode": {
    "name": "ipython",
    "version": 3
   },
   "file_extension": ".py",
   "mimetype": "text/x-python",
   "name": "python",
   "nbconvert_exporter": "python",
   "pygments_lexer": "ipython3",
   "version": "3.5.2"
  }
 },
 "nbformat": 4,
 "nbformat_minor": 1
}
