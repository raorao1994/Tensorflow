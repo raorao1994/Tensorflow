{
 "cells": [
  {
   "cell_type": "code",
   "execution_count": 49,
   "metadata": {
    "collapsed": true
   },
   "outputs": [],
   "source": [
    "import numpy as np;\n",
    "import matplotlib.pyplot as plt;"
   ]
  },
  {
   "cell_type": "code",
   "execution_count": 72,
   "metadata": {
    "collapsed": false
   },
   "outputs": [
    {
     "name": "stdout",
     "output_type": "stream",
     "text": [
      "[[-0.04760276 -0.10770063]\n",
      " [-0.04760276 -0.10770063]]\n"
     ]
    },
    {
     "data": {
      "image/png": "[encoded data removed]",
      "text/plain": [
       "<matplotlib.figure.Figure at 0xdd22a20>"
      ]
     },
     "metadata": {},
     "output_type": "display_data"
    }
   ],
   "source": [
    "#加载数据函数\n",
    "def loadDataSet(path):\n",
    "    dataMat=[];\n",
    "    lableMat=[];\n",
    "    #打开数据文件\n",
    "    fr=open(path);\n",
    "    for line in fr.readlines():\n",
    "        #获取数据每一行，并分割\n",
    "        lineArr=line.strip().split();\n",
    "        #添加到数据表中\n",
    "        dataMat.append([float(lineArr[0]),float(lineArr[1])]);\n",
    "        #添加到标签中\n",
    "        lableMat.append(int(lineArr[2]));\n",
    "    return dataMat,lableMat;\n",
    "#sigmoid函数\n",
    "def sigmoid(inx):\n",
    "    return 1.0/(1+np.exp(-inx));\n",
    "#随机梯度上升，在每次迭代中随机选择样本来更新权重，并且随迭代次数增加，权重变化越小。\n",
    "def GradAscent(dataMat,LableMat):\n",
    "    data=dataMat;\n",
    "    classLable=LableMat;\n",
    "    #获取数据大小\n",
    "    m,n=np.shape(data);\n",
    "    #迭代次数\n",
    "    iterations=500;\n",
    "    #下降速度\n",
    "    alpha=0.01;\n",
    "    #初始化权重，和特征数量一样大\n",
    "    weight=np.ones((n,1));\n",
    "    for times in range(iterations):\n",
    "#         #求测试数据和权重相乘的和\n",
    "#         mul=data*weight;\n",
    "#         #mul=np.dot(data,weight);\n",
    "#         sum1=np.sum(mul);\n",
    "#         #归一化\n",
    "#         h=sigmoid(sum1);\n",
    "#         #求残差\n",
    "#         error=(classLable-h);\n",
    "#         #erro=error.astype(np.int);\n",
    "#         #更新权重\n",
    "#         weight = weight + alpha * data.transpose()* error #迭代更新权重\n",
    "        ##遍历计算每一行\n",
    "        for i in range(m): \n",
    "            h = sigmoid(sum(data[i] * weight))\n",
    "            error = classLable[i] - h\n",
    "            weight = weight + alpha * error * data[i]\n",
    "    return weight;\n",
    "#画出最终分类的图\n",
    "def plotBestFit(dataMat,labelMat,weights):  \n",
    "    dataArr = np.array(dataMat)\n",
    "    n = np.shape(dataArr)[0]\n",
    "    xcord1 = []; ycord1 = []\n",
    "    xcord2 = []; ycord2 = []\n",
    "    for i in range(n):\n",
    "        if int(labelMat[i])== 1:\n",
    "            xcord1.append(dataArr[i,0])\n",
    "            ycord1.append(dataArr[i,1])\n",
    "        else:\n",
    "            xcord2.append(dataArr[i,0])\n",
    "            ycord2.append(dataArr[i,1])\n",
    "    fig = plt.figure()\n",
    "    ax = fig.add_subplot(111)\n",
    "    ax.scatter(xcord1, ycord1, s=30, c='red', marker='s')\n",
    "    ax.scatter(xcord2, ycord2, s=30, c='green')\n",
    "    \n",
    "    x = np.arange(-3.0,3.0, 0.1)\n",
    "    y = (-weights[0,0]*x)/weights[0,1]\n",
    "    ax.plot(x, y,\"r-\",4)\n",
    "#     plt.xlabel('X1')\n",
    "#     plt.ylabel('X2')\n",
    "    \n",
    "    plt.show()\n",
    "\n",
    "if __name__==\"__main__\":\n",
    "    path=\"data.txt\";\n",
    "    dataMat, labelMat = loadDataSet(path)\n",
    "    weights=GradAscent(dataMat, labelMat);\n",
    "    print(weights)\n",
    "    plotBestFit(dataMat,labelMat,weights)\n",
    "    "
   ]
  },
  {
   "cell_type": "code",
   "execution_count": null,
   "metadata": {
    "collapsed": true
   },
   "outputs": [],
   "source": []
  }
 ],
 "metadata": {
  "kernelspec": {
   "display_name": "Python [conda root]",
   "language": "python",
   "name": "conda-root-py"
  },
  "language_info": {
   "codemirror_mode": {
    "name": "ipython",
    "version": 3
   },
   "file_extension": ".py",
   "mimetype": "text/x-python",
   "name": "python",
   "nbconvert_exporter": "python",
   "pygments_lexer": "ipython3",
   "version": "3.5.2"
  }
 },
 "nbformat": 4,
 "nbformat_minor": 1
}
